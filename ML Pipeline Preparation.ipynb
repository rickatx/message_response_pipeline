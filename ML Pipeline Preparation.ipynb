{
 "cells": [
  {
   "cell_type": "markdown",
   "metadata": {},
   "source": [
    "# ML Pipeline Preparation\n",
    "Follow the instructions below to help you create your ML pipeline.\n",
    "### 1. Import libraries and load data from database.\n",
    "- Import Python libraries\n",
    "- Load dataset from database with [`read_sql_table`](https://pandas.pydata.org/pandas-docs/stable/generated/pandas.read_sql_table.html)\n",
    "- Define feature and target variables X and Y"
   ]
  },
  {
   "cell_type": "code",
   "execution_count": null,
   "metadata": {},
   "outputs": [
    {
     "name": "stderr",
     "output_type": "stream",
     "text": [
      "[nltk_data] Downloading package stopwords to\n",
      "[nltk_data]     C:\\Users\\USER\\AppData\\Roaming\\nltk_data...\n",
      "[nltk_data]   Package stopwords is already up-to-date!\n",
      "[nltk_data] Downloading package wordnet to\n",
      "[nltk_data]     C:\\Users\\USER\\AppData\\Roaming\\nltk_data...\n",
      "[nltk_data]   Package wordnet is already up-to-date!\n"
     ]
    },
    {
     "data": {
      "text/plain": [
       "True"
      ]
     },
     "execution_count": null,
     "metadata": {},
     "output_type": "execute_result"
    }
   ],
   "source": [
    "# import libraries\n",
    "import numpy as np\n",
    "import pandas as pd\n",
    "from sqlalchemy import create_engine\n",
    "import re\n",
    "import nltk\n",
    "from nltk.corpus import stopwords\n",
    "from nltk.stem.wordnet import WordNetLemmatizer\n",
    "from nltk.tokenize import word_tokenize\n",
    "\n",
    "# download nltk data\n",
    "nltk.download(['stopwords', 'wordnet', 'punkt'])"
   ]
  },
  {
   "cell_type": "code",
   "execution_count": null,
   "metadata": {},
   "outputs": [],
   "source": [
    "import os"
   ]
  },
  {
   "cell_type": "code",
   "execution_count": null,
   "metadata": {},
   "outputs": [],
   "source": [
    "# Change directory to the data directory, relative to the directory containing this .ipynb\n",
    "os.chdir('data')"
   ]
  },
  {
   "cell_type": "code",
   "execution_count": null,
   "metadata": {},
   "outputs": [
    {
     "name": "stdout",
     "output_type": "stream",
     "text": [
      "CleanedMessages.db\n",
      "categories.csv\n",
      "messages.csv\n",
      "test_save.db\n"
     ]
    }
   ],
   "source": [
    "!ls"
   ]
  },
  {
   "cell_type": "code",
   "execution_count": null,
   "metadata": {},
   "outputs": [],
   "source": [
    "# load data from database\n",
    "engine = create_engine('sqlite:///CleanedMessages.db')\n",
    "\n",
    "with engine.connect() as conn:\n",
    "    df = pd.read_sql('CategorizedMessages', conn)"
   ]
  },
  {
   "cell_type": "code",
   "execution_count": null,
   "metadata": {},
   "outputs": [],
   "source": [
    "# Split into model input and categories\n",
    "X = df[['message']]\n",
    "Y = df.loc[:, 'related':]"
   ]
  },
  {
   "cell_type": "code",
   "execution_count": null,
   "metadata": {},
   "outputs": [
    {
     "data": {
      "text/html": [
       "<div>\n",
       "<style scoped>\n",
       "    .dataframe tbody tr th:only-of-type {\n",
       "        vertical-align: middle;\n",
       "    }\n",
       "\n",
       "    .dataframe tbody tr th {\n",
       "        vertical-align: top;\n",
       "    }\n",
       "\n",
       "    .dataframe thead th {\n",
       "        text-align: right;\n",
       "    }\n",
       "</style>\n",
       "<table border=\"1\" class=\"dataframe\">\n",
       "  <thead>\n",
       "    <tr style=\"text-align: right;\">\n",
       "      <th></th>\n",
       "      <th>message</th>\n",
       "    </tr>\n",
       "  </thead>\n",
       "  <tbody>\n",
       "    <tr>\n",
       "      <th>0</th>\n",
       "      <td>Weather update - a cold front from Cuba that c...</td>\n",
       "    </tr>\n",
       "    <tr>\n",
       "      <th>1</th>\n",
       "      <td>Is the Hurricane over or is it not over</td>\n",
       "    </tr>\n",
       "    <tr>\n",
       "      <th>2</th>\n",
       "      <td>Looking for someone but no name</td>\n",
       "    </tr>\n",
       "  </tbody>\n",
       "</table>\n",
       "</div>"
      ],
      "text/plain": [
       "                                             message\n",
       "0  Weather update - a cold front from Cuba that c...\n",
       "1            Is the Hurricane over or is it not over\n",
       "2                    Looking for someone but no name"
      ]
     },
     "execution_count": null,
     "metadata": {},
     "output_type": "execute_result"
    }
   ],
   "source": [
    "X.head(3)"
   ]
  },
  {
   "cell_type": "code",
   "execution_count": null,
   "metadata": {},
   "outputs": [
    {
     "name": "stdout",
     "output_type": "stream",
     "text": [
      "(26216, 36)\n"
     ]
    },
    {
     "data": {
      "text/html": [
       "<div>\n",
       "<style scoped>\n",
       "    .dataframe tbody tr th:only-of-type {\n",
       "        vertical-align: middle;\n",
       "    }\n",
       "\n",
       "    .dataframe tbody tr th {\n",
       "        vertical-align: top;\n",
       "    }\n",
       "\n",
       "    .dataframe thead th {\n",
       "        text-align: right;\n",
       "    }\n",
       "</style>\n",
       "<table border=\"1\" class=\"dataframe\">\n",
       "  <thead>\n",
       "    <tr style=\"text-align: right;\">\n",
       "      <th></th>\n",
       "      <th>related</th>\n",
       "      <th>request</th>\n",
       "      <th>offer</th>\n",
       "      <th>aid_related</th>\n",
       "      <th>medical_help</th>\n",
       "      <th>medical_products</th>\n",
       "      <th>search_and_rescue</th>\n",
       "      <th>security</th>\n",
       "      <th>military</th>\n",
       "      <th>child_alone</th>\n",
       "      <th>...</th>\n",
       "      <th>aid_centers</th>\n",
       "      <th>other_infrastructure</th>\n",
       "      <th>weather_related</th>\n",
       "      <th>floods</th>\n",
       "      <th>storm</th>\n",
       "      <th>fire</th>\n",
       "      <th>earthquake</th>\n",
       "      <th>cold</th>\n",
       "      <th>other_weather</th>\n",
       "      <th>direct_report</th>\n",
       "    </tr>\n",
       "  </thead>\n",
       "  <tbody>\n",
       "    <tr>\n",
       "      <th>0</th>\n",
       "      <td>1</td>\n",
       "      <td>0</td>\n",
       "      <td>0</td>\n",
       "      <td>0</td>\n",
       "      <td>0</td>\n",
       "      <td>0</td>\n",
       "      <td>0</td>\n",
       "      <td>0</td>\n",
       "      <td>0</td>\n",
       "      <td>0</td>\n",
       "      <td>...</td>\n",
       "      <td>0</td>\n",
       "      <td>0</td>\n",
       "      <td>0</td>\n",
       "      <td>0</td>\n",
       "      <td>0</td>\n",
       "      <td>0</td>\n",
       "      <td>0</td>\n",
       "      <td>0</td>\n",
       "      <td>0</td>\n",
       "      <td>0</td>\n",
       "    </tr>\n",
       "    <tr>\n",
       "      <th>1</th>\n",
       "      <td>1</td>\n",
       "      <td>0</td>\n",
       "      <td>0</td>\n",
       "      <td>1</td>\n",
       "      <td>0</td>\n",
       "      <td>0</td>\n",
       "      <td>0</td>\n",
       "      <td>0</td>\n",
       "      <td>0</td>\n",
       "      <td>0</td>\n",
       "      <td>...</td>\n",
       "      <td>0</td>\n",
       "      <td>0</td>\n",
       "      <td>1</td>\n",
       "      <td>0</td>\n",
       "      <td>1</td>\n",
       "      <td>0</td>\n",
       "      <td>0</td>\n",
       "      <td>0</td>\n",
       "      <td>0</td>\n",
       "      <td>0</td>\n",
       "    </tr>\n",
       "    <tr>\n",
       "      <th>2</th>\n",
       "      <td>1</td>\n",
       "      <td>0</td>\n",
       "      <td>0</td>\n",
       "      <td>0</td>\n",
       "      <td>0</td>\n",
       "      <td>0</td>\n",
       "      <td>0</td>\n",
       "      <td>0</td>\n",
       "      <td>0</td>\n",
       "      <td>0</td>\n",
       "      <td>...</td>\n",
       "      <td>0</td>\n",
       "      <td>0</td>\n",
       "      <td>0</td>\n",
       "      <td>0</td>\n",
       "      <td>0</td>\n",
       "      <td>0</td>\n",
       "      <td>0</td>\n",
       "      <td>0</td>\n",
       "      <td>0</td>\n",
       "      <td>0</td>\n",
       "    </tr>\n",
       "  </tbody>\n",
       "</table>\n",
       "<p>3 rows × 36 columns</p>\n",
       "</div>"
      ],
      "text/plain": [
       "   related  request  offer  aid_related  medical_help  medical_products  \\\n",
       "0        1        0      0            0             0                 0   \n",
       "1        1        0      0            1             0                 0   \n",
       "2        1        0      0            0             0                 0   \n",
       "\n",
       "   search_and_rescue  security  military  child_alone  ...  aid_centers  \\\n",
       "0                  0         0         0            0  ...            0   \n",
       "1                  0         0         0            0  ...            0   \n",
       "2                  0         0         0            0  ...            0   \n",
       "\n",
       "   other_infrastructure  weather_related  floods  storm  fire  earthquake  \\\n",
       "0                     0                0       0      0     0           0   \n",
       "1                     0                1       0      1     0           0   \n",
       "2                     0                0       0      0     0           0   \n",
       "\n",
       "   cold  other_weather  direct_report  \n",
       "0     0              0              0  \n",
       "1     0              0              0  \n",
       "2     0              0              0  \n",
       "\n",
       "[3 rows x 36 columns]"
      ]
     },
     "execution_count": null,
     "metadata": {},
     "output_type": "execute_result"
    }
   ],
   "source": [
    "print(Y.shape)\n",
    "Y.head(3)"
   ]
  },
  {
   "cell_type": "markdown",
   "metadata": {},
   "source": [
    "### Data Exploration"
   ]
  },
  {
   "cell_type": "code",
   "execution_count": null,
   "metadata": {},
   "outputs": [
    {
     "data": {
      "text/html": [
       "<div>\n",
       "<style scoped>\n",
       "    .dataframe tbody tr th:only-of-type {\n",
       "        vertical-align: middle;\n",
       "    }\n",
       "\n",
       "    .dataframe tbody tr th {\n",
       "        vertical-align: top;\n",
       "    }\n",
       "\n",
       "    .dataframe thead th {\n",
       "        text-align: right;\n",
       "    }\n",
       "</style>\n",
       "<table border=\"1\" class=\"dataframe\">\n",
       "  <thead>\n",
       "    <tr style=\"text-align: right;\">\n",
       "      <th></th>\n",
       "      <th>id</th>\n",
       "      <th>message</th>\n",
       "      <th>original</th>\n",
       "      <th>genre</th>\n",
       "      <th>related</th>\n",
       "      <th>request</th>\n",
       "      <th>offer</th>\n",
       "      <th>aid_related</th>\n",
       "      <th>medical_help</th>\n",
       "      <th>medical_products</th>\n",
       "      <th>...</th>\n",
       "      <th>aid_centers</th>\n",
       "      <th>other_infrastructure</th>\n",
       "      <th>weather_related</th>\n",
       "      <th>floods</th>\n",
       "      <th>storm</th>\n",
       "      <th>fire</th>\n",
       "      <th>earthquake</th>\n",
       "      <th>cold</th>\n",
       "      <th>other_weather</th>\n",
       "      <th>direct_report</th>\n",
       "    </tr>\n",
       "  </thead>\n",
       "  <tbody>\n",
       "    <tr>\n",
       "      <th>0</th>\n",
       "      <td>2</td>\n",
       "      <td>Weather update - a cold front from Cuba that c...</td>\n",
       "      <td>Un front froid se retrouve sur Cuba ce matin. ...</td>\n",
       "      <td>direct</td>\n",
       "      <td>1</td>\n",
       "      <td>0</td>\n",
       "      <td>0</td>\n",
       "      <td>0</td>\n",
       "      <td>0</td>\n",
       "      <td>0</td>\n",
       "      <td>...</td>\n",
       "      <td>0</td>\n",
       "      <td>0</td>\n",
       "      <td>0</td>\n",
       "      <td>0</td>\n",
       "      <td>0</td>\n",
       "      <td>0</td>\n",
       "      <td>0</td>\n",
       "      <td>0</td>\n",
       "      <td>0</td>\n",
       "      <td>0</td>\n",
       "    </tr>\n",
       "    <tr>\n",
       "      <th>1</th>\n",
       "      <td>7</td>\n",
       "      <td>Is the Hurricane over or is it not over</td>\n",
       "      <td>Cyclone nan fini osinon li pa fini</td>\n",
       "      <td>direct</td>\n",
       "      <td>1</td>\n",
       "      <td>0</td>\n",
       "      <td>0</td>\n",
       "      <td>1</td>\n",
       "      <td>0</td>\n",
       "      <td>0</td>\n",
       "      <td>...</td>\n",
       "      <td>0</td>\n",
       "      <td>0</td>\n",
       "      <td>1</td>\n",
       "      <td>0</td>\n",
       "      <td>1</td>\n",
       "      <td>0</td>\n",
       "      <td>0</td>\n",
       "      <td>0</td>\n",
       "      <td>0</td>\n",
       "      <td>0</td>\n",
       "    </tr>\n",
       "    <tr>\n",
       "      <th>2</th>\n",
       "      <td>8</td>\n",
       "      <td>Looking for someone but no name</td>\n",
       "      <td>Patnm, di Maryani relem pou li banm nouvel li ...</td>\n",
       "      <td>direct</td>\n",
       "      <td>1</td>\n",
       "      <td>0</td>\n",
       "      <td>0</td>\n",
       "      <td>0</td>\n",
       "      <td>0</td>\n",
       "      <td>0</td>\n",
       "      <td>...</td>\n",
       "      <td>0</td>\n",
       "      <td>0</td>\n",
       "      <td>0</td>\n",
       "      <td>0</td>\n",
       "      <td>0</td>\n",
       "      <td>0</td>\n",
       "      <td>0</td>\n",
       "      <td>0</td>\n",
       "      <td>0</td>\n",
       "      <td>0</td>\n",
       "    </tr>\n",
       "  </tbody>\n",
       "</table>\n",
       "<p>3 rows × 40 columns</p>\n",
       "</div>"
      ],
      "text/plain": [
       "   id                                            message  \\\n",
       "0   2  Weather update - a cold front from Cuba that c...   \n",
       "1   7            Is the Hurricane over or is it not over   \n",
       "2   8                    Looking for someone but no name   \n",
       "\n",
       "                                            original   genre  related  \\\n",
       "0  Un front froid se retrouve sur Cuba ce matin. ...  direct        1   \n",
       "1                 Cyclone nan fini osinon li pa fini  direct        1   \n",
       "2  Patnm, di Maryani relem pou li banm nouvel li ...  direct        1   \n",
       "\n",
       "   request  offer  aid_related  medical_help  medical_products  ...  \\\n",
       "0        0      0            0             0                 0  ...   \n",
       "1        0      0            1             0                 0  ...   \n",
       "2        0      0            0             0                 0  ...   \n",
       "\n",
       "   aid_centers  other_infrastructure  weather_related  floods  storm  fire  \\\n",
       "0            0                     0                0       0      0     0   \n",
       "1            0                     0                1       0      1     0   \n",
       "2            0                     0                0       0      0     0   \n",
       "\n",
       "   earthquake  cold  other_weather  direct_report  \n",
       "0           0     0              0              0  \n",
       "1           0     0              0              0  \n",
       "2           0     0              0              0  \n",
       "\n",
       "[3 rows x 40 columns]"
      ]
     },
     "execution_count": null,
     "metadata": {},
     "output_type": "execute_result"
    }
   ],
   "source": [
    "df.head(3)"
   ]
  },
  {
   "cell_type": "code",
   "execution_count": null,
   "metadata": {},
   "outputs": [
    {
     "name": "stdout",
     "output_type": "stream",
     "text": [
      "<class 'pandas.core.frame.DataFrame'>\n",
      "RangeIndex: 26216 entries, 0 to 26215\n",
      "Data columns (total 40 columns):\n",
      " #   Column                  Non-Null Count  Dtype \n",
      "---  ------                  --------------  ----- \n",
      " 0   id                      26216 non-null  int64 \n",
      " 1   message                 26216 non-null  object\n",
      " 2   original                10170 non-null  object\n",
      " 3   genre                   26216 non-null  object\n",
      " 4   related                 26216 non-null  int64 \n",
      " 5   request                 26216 non-null  int64 \n",
      " 6   offer                   26216 non-null  int64 \n",
      " 7   aid_related             26216 non-null  int64 \n",
      " 8   medical_help            26216 non-null  int64 \n",
      " 9   medical_products        26216 non-null  int64 \n",
      " 10  search_and_rescue       26216 non-null  int64 \n",
      " 11  security                26216 non-null  int64 \n",
      " 12  military                26216 non-null  int64 \n",
      " 13  child_alone             26216 non-null  int64 \n",
      " 14  water                   26216 non-null  int64 \n",
      " 15  food                    26216 non-null  int64 \n",
      " 16  shelter                 26216 non-null  int64 \n",
      " 17  clothing                26216 non-null  int64 \n",
      " 18  money                   26216 non-null  int64 \n",
      " 19  missing_people          26216 non-null  int64 \n",
      " 20  refugees                26216 non-null  int64 \n",
      " 21  death                   26216 non-null  int64 \n",
      " 22  other_aid               26216 non-null  int64 \n",
      " 23  infrastructure_related  26216 non-null  int64 \n",
      " 24  transport               26216 non-null  int64 \n",
      " 25  buildings               26216 non-null  int64 \n",
      " 26  electricity             26216 non-null  int64 \n",
      " 27  tools                   26216 non-null  int64 \n",
      " 28  hospitals               26216 non-null  int64 \n",
      " 29  shops                   26216 non-null  int64 \n",
      " 30  aid_centers             26216 non-null  int64 \n",
      " 31  other_infrastructure    26216 non-null  int64 \n",
      " 32  weather_related         26216 non-null  int64 \n",
      " 33  floods                  26216 non-null  int64 \n",
      " 34  storm                   26216 non-null  int64 \n",
      " 35  fire                    26216 non-null  int64 \n",
      " 36  earthquake              26216 non-null  int64 \n",
      " 37  cold                    26216 non-null  int64 \n",
      " 38  other_weather           26216 non-null  int64 \n",
      " 39  direct_report           26216 non-null  int64 \n",
      "dtypes: int64(37), object(3)\n",
      "memory usage: 8.0+ MB\n"
     ]
    }
   ],
   "source": [
    "# Verify there are no null values\n",
    "df.info()"
   ]
  },
  {
   "cell_type": "code",
   "execution_count": null,
   "metadata": {},
   "outputs": [
    {
     "data": {
      "text/plain": [
       "news      13054\n",
       "direct    10766\n",
       "social     2396\n",
       "Name: genre, dtype: int64"
      ]
     },
     "execution_count": null,
     "metadata": {},
     "output_type": "execute_result"
    }
   ],
   "source": [
    "df.genre.value_counts()"
   ]
  },
  {
   "cell_type": "markdown",
   "metadata": {},
   "source": [
    "Check values of categorization columns."
   ]
  },
  {
   "cell_type": "code",
   "execution_count": null,
   "metadata": {},
   "outputs": [
    {
     "name": "stdout",
     "output_type": "stream",
     "text": [
      "1    19906\n",
      "0     6122\n",
      "2      188\n",
      "Name: related, dtype: int64\n",
      "\n",
      "0    21742\n",
      "1     4474\n",
      "Name: request, dtype: int64\n",
      "\n",
      "0    26098\n",
      "1      118\n",
      "Name: offer, dtype: int64\n",
      "\n",
      "0    15356\n",
      "1    10860\n",
      "Name: aid_related, dtype: int64\n",
      "\n",
      "0    24132\n",
      "1     2084\n",
      "Name: medical_help, dtype: int64\n",
      "\n",
      "0    24903\n",
      "1     1313\n",
      "Name: medical_products, dtype: int64\n",
      "\n",
      "0    25492\n",
      "1      724\n",
      "Name: search_and_rescue, dtype: int64\n",
      "\n",
      "0    25745\n",
      "1      471\n",
      "Name: security, dtype: int64\n",
      "\n",
      "0    25356\n",
      "1      860\n",
      "Name: military, dtype: int64\n",
      "\n",
      "0    26216\n",
      "Name: child_alone, dtype: int64\n",
      "\n",
      "0    24544\n",
      "1     1672\n",
      "Name: water, dtype: int64\n",
      "\n",
      "0    23293\n",
      "1     2923\n",
      "Name: food, dtype: int64\n",
      "\n",
      "0    23902\n",
      "1     2314\n",
      "Name: shelter, dtype: int64\n",
      "\n",
      "0    25811\n",
      "1      405\n",
      "Name: clothing, dtype: int64\n",
      "\n",
      "0    25612\n",
      "1      604\n",
      "Name: money, dtype: int64\n",
      "\n",
      "0    25918\n",
      "1      298\n",
      "Name: missing_people, dtype: int64\n",
      "\n",
      "0    25341\n",
      "1      875\n",
      "Name: refugees, dtype: int64\n",
      "\n",
      "0    25022\n",
      "1     1194\n",
      "Name: death, dtype: int64\n",
      "\n",
      "0    22770\n",
      "1     3446\n",
      "Name: other_aid, dtype: int64\n",
      "\n",
      "0    24511\n",
      "1     1705\n",
      "Name: infrastructure_related, dtype: int64\n",
      "\n",
      "0    25015\n",
      "1     1201\n",
      "Name: transport, dtype: int64\n",
      "\n",
      "0    24883\n",
      "1     1333\n",
      "Name: buildings, dtype: int64\n",
      "\n",
      "0    25684\n",
      "1      532\n",
      "Name: electricity, dtype: int64\n",
      "\n",
      "0    26057\n",
      "1      159\n",
      "Name: tools, dtype: int64\n",
      "\n",
      "0    25933\n",
      "1      283\n",
      "Name: hospitals, dtype: int64\n",
      "\n",
      "0    26096\n",
      "1      120\n",
      "Name: shops, dtype: int64\n",
      "\n",
      "0    25907\n",
      "1      309\n",
      "Name: aid_centers, dtype: int64\n",
      "\n",
      "0    25065\n",
      "1     1151\n",
      "Name: other_infrastructure, dtype: int64\n",
      "\n",
      "0    18919\n",
      "1     7297\n",
      "Name: weather_related, dtype: int64\n",
      "\n",
      "0    24061\n",
      "1     2155\n",
      "Name: floods, dtype: int64\n",
      "\n",
      "0    23773\n",
      "1     2443\n",
      "Name: storm, dtype: int64\n",
      "\n",
      "0    25934\n",
      "1      282\n",
      "Name: fire, dtype: int64\n",
      "\n",
      "0    23761\n",
      "1     2455\n",
      "Name: earthquake, dtype: int64\n",
      "\n",
      "0    25686\n",
      "1      530\n",
      "Name: cold, dtype: int64\n",
      "\n",
      "0    24840\n",
      "1     1376\n",
      "Name: other_weather, dtype: int64\n",
      "\n",
      "0    21141\n",
      "1     5075\n",
      "Name: direct_report, dtype: int64\n",
      "\n"
     ]
    }
   ],
   "source": [
    "for col in df.columns[4:]:\n",
    "    print(df[col].value_counts())\n",
    "    print()"
   ]
  },
  {
   "cell_type": "markdown",
   "metadata": {},
   "source": [
    "We see that while most columns have values in {0, 1} indicating false/true, the 'related' column has values from the set: {0, 1, 2}. \n",
    "\n",
    "I didn't find documentation that explained this, so investigate further.\n",
    "\n",
    "What is the character of the messages in each of the categories of the 'related' column?"
   ]
  },
  {
   "cell_type": "code",
   "execution_count": null,
   "metadata": {},
   "outputs": [
    {
     "name": "stdout",
     "output_type": "stream",
     "text": [
      "\n",
      "============= val: 1 =============\n",
      "Weather update - a cold front from Cuba that could pass over Haiti\n",
      "Is the Hurricane over or is it not over\n",
      "Looking for someone but no name\n",
      "UN reports Leogane 80-90 destroyed. Only Hospital St. Croix functioning. Needs supplies desperately.\n",
      "says: west side of Haiti, rest of the country today and tonight\n",
      "Storm at sacred heart of jesus\n",
      "Please, we need tents and water. We are in Silo, Thank you!\n",
      "I am in Croix-des-Bouquets. We have health issues. They ( workers ) are in Santo 15. ( an area in Croix-des-Bouquets )\n",
      "There's nothing to eat and water, we starving and thirsty.\n",
      "I am in Thomassin number 32, in the area named Pyron. I would like to have some water. Thank God we are fine, but we desperately need water. Thanks\n",
      "Let's do it together, need food in Delma 75, in didine area\n",
      "More information on the 4636 number in order for me to participate. ( To see if I can use it )\n",
      "A Comitee in Delmas 19, Rue ( street ) Janvier, Impasse Charite #2. We have about 500 people in a temporary shelter and we are in dire need of Water, Food, Medications, Tents and Clothes. Please stop by and see us.\n",
      "We need food and water in Klecin 12. We are dying of hunger. Impasse Chretien Klecin 12 extended ( extension ) We are hungry and sick.\n",
      "I would like to know if the earthquake is over. Thanks\n",
      "I would like to know if one of the radio ginen Journalist died?\n",
      "I'm in Laplaine, I am a victim\n",
      "There's a lack of water in Moleya, please informed them for me.\n",
      "Those people who live at Sibert need food they are hungry.\n",
      "I want to say hello, my message is to let you know that there's an area in faustin Anhy street that has nothing neither food, water and medicine,\n",
      "People I'm at Delma 2, we don't anything what so ever, please provide us with some food, water, and medicine\n",
      "We are at Gressier we needs assistance right away. ASAP, Come help us.\n",
      "How can we get water and food in Fontamara 43 cite Tinante?\n",
      "We need help. Carrefour has been forgotten completely. The foul odor is killing us. Just letting you know. Thanks!!\n",
      "We have a lot of problem at Delma 75 Avenue Albert Jode, those people need water and food.\n",
      "People have been sleeping outdoors in a field near Lilavois since 12 Jan. No coords on Lilavois but apparently it is near PaP\n",
      "We want you to know that Carrefour need help, we starving to death.\n",
      "How we can find food and water? we have people in many differents needs, and also for medicine at Fontamara 43 cite Tinante.\n",
      "Delmas 33 in Silo, need water.\n",
      "I would like to get help at Cote Plage in Carrefour\n",
      "I am in Leoganes, where can I get food? Please\n",
      "The Comite Miracle in the area of Alerte Rue Monseigneur Guilloux, ( Streets, Alerte and the cross street is Mgr Guilloux ) would like to urgently receive food, water and tents for the people in that area. Thanks\n",
      "People from Dal blocked since Wednesday in Carrefour, we having water shortage, food and medical assistance.\n",
      "In Jacmel it's not working at all, because people are dying of hunger.\n",
      "We have no one everybody is dead.\n",
      "We don't talk about Petit-Goave, Please, look into Petit-Goave.\n",
      "Good evening, is the earthquake end?\n",
      "People in Fontamara 27 in impass area Pierre Louis having lots of difficulties, please help, ASAP.\n",
      "Good evening, I congratulate you for all the good work and with strenght i'm listening from Matisan 1, we have water and food shortage but God provided his grace upon us.\n",
      "how can we find aid and food in fontamara ( carrefour )\n",
      "Am listening to radio in Jacmel. Need help to remove dead bodies at Colege la Trinite-universite, the bodies are the professors and students\n",
      "People from Jacmel are requesting a tractor in that area because there is a civil unrest and social disturbance in that area.\n",
      "Im asking a general prayer for the country of Haiti.\n",
      "We are at KF Marotiere 85, we have food and water shortage, please send food for us.\n",
      "What's up? I would like to know how the Arab is doing.\n",
      "I am listening to radio wa in jacmel. I am asking for help to remove the dead bodies under La trinite college situated at university inasmo. The dead bodies are those of students and teachers\n",
      "In which transfert house does someone abroad has to go to send money to haiti\n",
      "For your information, There are people that are found in the rubbles of the School of Trinite, ( L'Ecole Sainte Trinite ) in Jacmel. Cookies brought to them by Colombian dogs are keeping them alive.\n",
      "When can we get some help in Jacmel?\n",
      "How can we find help and food in fontamara 43 rue menos\n",
      "SOS SOS, please provide police officers on the streets as they are very insecure\n",
      ".. .. . we are here our mother has no more water. if you are there let us know ( location not provided )\n",
      "People needing water with baby Location : Beach 24\n",
      "help is needed in fond parisien, no idea where that is, but any haitian can tell you\n",
      "We're asking for water, medical supply, food\n",
      "My home is at Gressier, it has almost collapsed. I would like to distroy it before it collapses completly.\n",
      "would like to know where food and water are being distributed. ( location not provided )\n",
      "We are seven in the house. Located betwenn Musso and Juvenat. Dyobel-Dyobal. .. not sure The rest of the information is not clear.\n",
      "He is a pastor and an interpreter seeking to help response teams.\n",
      "we have problem at Paco Lazon this is General Police Department we want you to know we almost out of food and water.\n",
      "We are in Sainte Bernadette. There are 2 areas that have not received anything. We are buying water ( warm ) for 5 gourdes.\n",
      "I would like to communicate with my family I don I t have any minutes on my cell phone please help\n",
      "some people are sleeping outside on a field at Lilavois 50 and are dying of hunger since January 12th.\n",
      "Friend I dont know what is going on with you for I hear of what is going on but i have not hear any news about you. I hear what happen Carrefour and petion-Ville\n",
      "i'm asking for help to this valley especially Santo, Sath, B\n",
      "I am a driver, a mechanic ,. I want to help\n",
      "a lot and we don't have any news of him. We haven't even found a body so we could at least know he is dead. The hospitals need to be checked and the registry books also. Please help us!! ( This seems to be the end of another message )\n",
      "We have a big problem in Jacmel, we left Port-au-Prince without food, clothes and money. we are really in a critical situation.\n",
      "We would like to receive some help in the Section Communale. There is a lot of violence.\n",
      "A cold front is found over Cuba this morning. It could cross Haiti tomorrow. Isolated rain showers are expected over our region tonight.\n",
      "Please we need help, food and toiletries.\n",
      "A weather forcast. . of a cold front in cuba and could pass through haiti by night..\n",
      "food water mediacation, we dont have tents to protect our selves, i am using my cistern. lovation not provided\n",
      "The ADJS group house in Jacmel. They are talking with people in the southeast. There are a lot of victims and people suffering, especially in Jacmel. Something about an entire house collapsing. The road sot pop in Jacmel is cut off.\n",
      "This is a request that the aid services not forget the south-east region because there are a lot of victims and people suffering there. A number is given.\n",
      "Where can people in Fort Mercredi can find food and water?\n",
      "( im taking a guess at this sorry its a mix of creole and french. sms.) message as i understand. whos close to mounn fort mercredi  food and water is running low. because there is a problem with people hurt. please help us.\n",
      "We are at Fort Mercredi ( wednesday ) where can we find tents and treated water.\n",
      "whos next to fort mercredi i would like food and water please\n",
      "The wounded in the Saint Michely hospital have no medicine. (This looks like part of a message that got cut off)\n",
      "\n",
      "============= val: 0 =============\n",
      "Information about the National Palace-\n",
      "I would like to receive the messages, thank you\n",
      "I am in Petionville. I need more information regarding 4636\n",
      "are you going to call me or do you want me to call ou? let me know?\n",
      "I don't understand how to use this thing 4636.\n",
      "Can you tell me about this service\n",
      "Good evening, Radio one please. I would like information on Tiyous.\n",
      "I'm here, I didn't find the person that I needed to send the pant by phone\n",
      "I'm listening to you at Miraguan we asking the government to take change because one gallon gas is 80.\n",
      "i am very happy, i hear god, religious hyme\n",
      "I would like to know how food is distributed.\n",
      "I can play carnaval Anbasad Camp there I think this is a simple comment about a creole rap group - Anbasad Camp. Does not refer to location or read as a cry for help. TK\n",
      "ples give us cell cards ( cell phone minuts ) we cannot find cell phone cards to buy\n",
      "Whoever sees her in the streets : she was wearing a white denim skirt and a printed black t-shirt and her hair is in a cornrow do.\n",
      "good people help us. god bless you and us too\n",
      "Digicel let me go through, it's an emergency\n",
      "Where can I find Capital Bank please?\n",
      "URGENT ACTION NEEDED --this is follow up from previous SMS in regards to possible delivery... possible to deliver my baby in an other country, does not matter what it is..\n",
      "Please add airtime on my phone. Thanks\n",
      "City that i'm near is Port-au Prince for me 'm at Titanyen\n",
      "I don't know Rue du Muguet, Route de Desprez 7. Is there another location on the Airport Road?\n",
      "We have a commitee from Santo 15 nameAjeans: Youth Association in action for a new society that was founded in September 2009, the president is..\n",
      "What time will the American Embassy open tomorrow?\n",
      "Is it true that the political city will held in Hinche?\n",
      "in what field would you need me to speak creole. French, half english, ( MW? )\n",
      "Where can I find a car to leave in?\n",
      "Can someone who has a visa travel out. What can he do?\n",
      "I know of an internet service in Croix des Bouquets, Falaise Street. The more important would be to open wireless zones for everyone that has laptops\n",
      "Send me some minutes for my phone\n",
      "Please, what can you do for us. We do not have anything.\n",
      "miques, antihitamines, diapers, folic acid, antifungus, vitamin C, feminine pads, vaginal solutions, klorox, disinfectants.. \n",
      "I come back and nothing is the same my clothes are not there for me to put on\n",
      "Digicel, please put some credit on our phones\n",
      "The manager of digicel phone compagny sent out phone cards for his clients\n",
      "I want to make a call, I can't, there is a crowd of my relatives and I cannot hear, do me a favor please\n",
      "their is someone that left their home and never remembered to call their family, they will never know what happen\n",
      "I was in Port-au-Prince and went to the north-west department. I want to know if internet is working in port-au-prince. Thank you. Let's keep contact\n",
      "I have no card, tell me what kind of SMS I need to send\n",
      "Around my house, there are no cyber cafe for me to use\n",
      "so, in the message you spoke of registering names. I'd like to know what purpose this serves. help me out. thank you\n",
      "I am not in port au prince, I am in Limbe do you know a place where there is working Internet\n",
      "no cybercafe working close to where i live\n",
      "Artists that have died, those who are wounded and those whom have disappeared I will be naming them today, there are more than 6 radios like Radio One, Radio Signal Fm, Maximum Caraib Fm, Lumiere etc\n",
      "Telenet Internet Cafe on Plaisance's old building space hello digicel communication\n",
      "the cyber cafe that is functioning is SERVICE MATICS the address is in front of the BRASSERIE LA COURONNE.\n",
      "K aTIS RAP CREOLE. CONTACT ME FAST. FAST VIA SMS OR CALL URGENT it is very very important because it today im gonna do wats I got to do over the bariers am allready waiting\n",
      "there are no rooms at the mayors office that have internet access\n",
      "this sms is only giving you an address not much detail. . / 2 cyber cafe route of frere. . a litle under where the jumbala night club is..\n",
      "We have the internet at the Internet Cafe by Ti Place Cazeaux\n",
      "MY PHONE HAS NO MINUTE CARD I CANT SEND ANY MESSAGE I WOULD NEED INTERNET I CANT CALL THE PERSON THAT COULD SEND THE MESSAGE.\n",
      "cyber cafe global univercell cabaret 35 km from port au prince\n",
      "i need a card to call my family.\n",
      "the closest cyper cafe is express nety in croix des bouquet befog the police station. TN 4th message i translate advertising a cyper cafe\n",
      "i need a litle credit on my count\n",
      "I don't know the address at all because I just came from Jeremie\n",
      "There's only one cybercafe in the town called MOLE\n",
      "i salut you for all you are doing to help us now. this is actually for the adress of a ciper cafe that is working. i will send it later. TN we had several messages about this yesterday. i suspect this is guy is advertising that he is up and running.\n",
      "The address is new life bo kay in St Fille\n",
      "NET ONE WIT LATORTUE IS FUNCTIONING IN THE ZONE OF DEKAWO. FREDO NET AP F\n",
      "The prices have doubled for food in Mole Saint Nicolas. A cup of Corn is 45 Gdes now.\n",
      "We don't have working cyber in our region\n",
      "hard because everything is sold sky high. Small rice tin can is sold for 40Gourdes 40Gourdes a roughly 1. 00 US\n",
      "there's a problem with the signal which blocks transactions\n",
      "GOOD DAY DIGICEL GIVE ME A CHANCE SO I CA CALL SOMEONE PLEASE\n",
      "GOOD DAY! SWEETHEART I LOVE YOU FOREVER BABY\n",
      "GOOD DAY DIGICEL I DONT KNOW UR WEB ADDRESS\n",
      "HELLO MOM CALL ME BECAUSE I CANNOT GET THROUGH..\n",
      "BRA BALANSE PLEASE THINK ABOUT ME THANK YOU IN ADVANCE\n",
      "I CAN'T GET THROUGH ANY OTHER PHONES BUT DIGICEL\n",
      "I'M IN FRONT OF THE EMBASSY CALL ME\n",
      "please, which cyber cafe is in service? no other information noted within text.\n",
      "can you inform me of any Transfer bureau that is currently functionning?? because i have and urgency\n",
      "self eplanatory. read text msg.\n",
      "Goodday, there is a cybercafe that is available on Route National #1 near the corner of Vincent\n",
      "thank you for the follow up you will give this message and it is important that I tell you that I\n",
      "I speak French very well, I speak Spanish very well, I speak ( no other information )\n",
      "Digicel please i cannot make phone calls, see what you can do for me\n",
      "what cyber cafe's are working?\n",
      "send me the info for the croix des bouquets please\n",
      "I am located in Route Freres- Impasse Fortin. .. A bit further than the Granit Market\n",
      "\n",
      "============= val: 2 =============\n",
      "Dans la zone de Saint Etienne la route de Jacmel est bloqu, il est trsdifficile de se rendre  Jacmel\n",
      ". .. i with limited means. Certain patients come from the capital.\n",
      "The internet caf Net@le that's by the Dal road by the Maranata church ( incomplete )\n",
      "Bonsoir, on est a bon repos aprs la compagnie teleko sur la route a droite de l'impasse Roger colas aprs la 9e maison sur la main droite de la rue, on est environ 30 personnes sur un. ..\n",
      "URGENT CRECHE ORPHANAGE KAY TOUT TIMOUN CROIX DES MISSIONS IMPASSE BALEV BUTTE BOYER MANQUE EAU ET NOURRITURE N ONT VU AUCUN SECOURS DEPUIS 8 JOURS HELP HELP\n",
      "elle est vraiment malade et a besoin d'aide. utilisez mon numero de tlphone pour obtenir plus de renseignements. Nous attendons une reponse. Aucun numero fourni par contre.\n",
      "no authority has passed by to see us. We don't have a place t sleep ( incomplete )\n",
      "It's Over in Gressier. The population in the area - Incomplete\n",
      "we sleep with the baby. Thanks in advance for the help you will bring us. ( incomplete )\n",
      "I need help in Jrmie because I was in Port-au-Prince in university I am counting on you.\n",
      "fsa pou mwen s v p map mouri mwen gen tout po blem ede m a do that for me plz. I'm dying. I have all sorts of problems. Help me\n",
      ".. Gonaives, in a place called Canal Bois in French. i'm writing this message just to.. \n",
      "GEN YON TIBEBE KI MALAD NAN KOU PASKE BLOK TONBE SOU LI. MEN DIREKSYON AN LEW RIVE NAN VIL LEYOGAN WAP MONTE NAN WOUT DABON LEW RIVE NAN KAFOU DABON WAP VIRE NAN BO KKOTI YZIN NAN. WAP JWENN YON KAFOU LEW RIVE PIDEVAN WAP WE SANT CEFECAC LA. OUBYEN LEW NAN WOUT WAP RELEM EPI MAP PRAN YON MOTE POUM VIN CHAC \n",
      "don't understand the first part. .. understanding. We are waiting for your response\n",
      "Est-ce que ya monde qui aller U. s. a et qui ont tomoin qui Americain Are there people who are going to US and that have witness that is american \n",
      "Gens ont information qui dit que si on moins citoyens americains vit ici l que tout aller ok tout le monde vite fil pour qu'on essaie survivre. People have information that say that if american citizens live here that all will be ok and that everyone ( could be the world ) hurrying to try to make us survive.\n",
      "This is my address : Cersine 8 Prolong. .. . \n",
      "I would like to have some information on the last disaster\n",
      "No location : Ou se trouve l'ambassade du Sngal en Haiti\n",
      "Je veux savoir comment je peux obtenir de l'aide pour mon orphelinat situ  Delmas 31, svp dites-moi ce que je dois faire\n",
      "142, Ruelle Beaulieu, Mon Repos 44 Carrefour \n",
      ". ..  Esdras. Address : Solidarit Village, Toussain Louverture Street 83A!\n",
      "Route des dalles prolonges #277 after Morne Jean-Pierre, thank you do. ..  \n",
      "we are in rue Dessalines Petit goaves and it necessary to..? \n",
      "I am very happy to get the messages that tell me about the precautions I have to take. Thank you very much, If you could make it so that food comes my way it would be good because .. \n",
      "mouin vle kite ayiti depi kek jou. \n",
      "Mwen ta renmen jwenn yon djb. ske gen posiblite pou mwen jwenn li? Kisa ou ka f pou ede mwen? Mwen bezwen savis ou. \n",
      "(Delmas 33 Charboniere infomatyon s'il vous plait.) \n",
      "Carrefour Feuille rue Mgr Prol # 39 \n",
      "Ede m nan lort pou genyen yon bourss \n",
      "mwen ta renmen gen enfmasyon sou siklyn nan peyi mwen \n",
      "jel2  Acte 5: 29 2chr7 Lev11 Ecl9 Ecl4 jos5 ch102kr Es59 \n",
      "I'd like to know after this drama, will there be anywhere that I may see a psychologist, who maybe available because I have \n",
      "gjm.adgjmpgjm.adgjmgjmgjmgjmgjmgkmptwptwptwptwptwptwptwptwptwptwpwptwptwgjmgjmgjmad.ad.ad.ad.d.ad.d.da.d.ad.ad.ad \n",
      "are what the imigration restarts has make of them pass-port for people that not of pass-port \n",
      "mwen besoin dlo avek mange na zon bon repos, lilavois \n",
      "Damocles!Hracles!Philockles!Hyphocles.!yayecles!zigzacles!domagecles!lucles!77h  \n",
      "The SMS:  Evitons 2 traiter 1 tas bLaissons 2 cot 7 kesyon. Ke tu sois direct tais notre mach conclus 2 c matin. J't'attends  \n",
      "Midi Estimene:rue Lambert Prolongee and rue Merilus #4 (Petion-ville) \n",
      "Amoni se Richi: Rue Raphael et Cerisier (Petion Ville) \n",
      " 9GeQYeYGQEQtm  \n",
      "annot ni batiman dada cheri se pwason ni ou ni manmi w ni keti renmen an pil la wi se yon gro rat at yon gro kwapo kitap batay lasirne f tranf pou tou \n",
      "0H 8@@ @2x @e8x3 xr     \n",
      "http://wap.sina.comhttp://wap.sina.com \n",
      "Wesantyahoo.fr.Pepayisenyahoo.fr \n",
      "//// // @:@ \n",
      "NOTES: this message is not complete\n",
      "f k yo ap mal viv nan ansagal lagonav.msi.  \n",
      "8 @9q@@  5 m) 1A a!a ?aCYCLONE  \n",
      "/''''''''@''''''''''''''''@ @''''' michou )) ''''''''''''cyclone.  \n",
      "I@UU#UTGa UTUUUXU  UU@UU@UUp U. \n",
      "Good evening to all parts of the United Nations so I remsiw Adra, Spain because I see something to bring 250 people found the four towels soap Cink had a six ice all very much pleased the United Nations kounya other things I'm waiting for luggage next to Always on baylode. \n",
      "Pal kraze preval di pa gen pwoblem, pal jistis kraze preval di sa te dwe kraze 2ja paske pat janm gen jistis, yo di kleren lakay ak rhum barbancourt kraze preval met 2 men nan tt li rele anmwey pa gen peyi ank. \n",
      "0Tranbleman t aH 8@@ @2x @e8x3 xr    ' Gv?e?0   \n",
      "The SMS:  Rezilta Bak la sot bay 12 Janvye a nan lekl la vi a. Men kman l tonbe: Moun ki mouri nan dezobeyisans yo: Elimine Moun ki mouri anba pouvwa Bondye yo: Admi e rs moun ki rete yo ajoune. Pa bliye egzamen moun ajoune yo p'ap two lwen pou'l ft, degaj  \n",
      "Aa.Bb.Cc.Dd.Ee.Ff.Gg.Hh.Ii.Jj.Kk.Ll.Mm.Nn.Oo.Pp.Qq.Rr.Ss.Tt.Uu.Vv.Ww.Xx.Yy.Zz.KERLANGE. \n",
      "3 mamit chabon,4 dola poban,kart,pn 2 t,kreson,tomat. \n",
      "Mato30 Nivo60 Tiwl30 Ficel22 Ek49 \n",
      "Bonjou fr Louko mwen se simon st.pierre map koute radio 1 nan boukan-chat map mandew svp pouw salye moun sayo pou mwen: Eunide Elissain, wiskender st.pierre,et jesual st.pierre,alyas pipirit, kap koute radyo a chapotin. Msi. \n",
      "2O TRI PYE, 5 POIRO, 2GD PESI, 1OMORU, 5LAY3DOLA SITWON \n",
      "Prcaussion cons of the aspen earth \n",
      "Zb rmd : dl 2, dl rep, dl chase \n",
      "Zb rmd : dl c.lve dl 2, dl rep, dl chase. \n",
      "please, we would like to know if itis true thereas in the moment. \n",
      "NOTES: This message is not complete, it is not necessary to translate it.\n",
      "NOTES: This message mark not enough information.\n",
      "Word Hurricane and earthquake \n",
      "Wpltjgdtm pwjtj ptjg. T .)tgjpg(uk \n",
      "Tegen tranblement land kite yon pase nan north country of haiti sete year 1842 Bulan interest unknown \n",
      "0H4Z(Z x(@zf0 ?!?@x PrxP0c6 \n",
      "RT lucasrohan Tem alguma coisa do Haiti? T u00f4 acomapanhando a lista nprnews haiti earthquake t u00e1 ca u00f3tico t u00e1 um horror l u00e1\n",
      "RT paipibat RT Teelek Flickr paipibat u0e15 u0e34 u0e14 u0e15 u0e32 u0e21 u0e20 u0e32 u0e1e u0e08 u0e32 u0e01 u0e40 u0e1e u0e34 u0e48 u0e21 u0e40 u0e15 u0e34 u0e21 u0e08 u0e32 u0e01 Flickr u0e44 u0e14 u0e49 u0e17 u0e35 u0e48 u0e19 u0e35 u0e48 u0e04 u0e23 u0e31 u0e1a http bit.ly 60OxGS #Haiti #Earthquake\n",
      "alhamdulillah sekarang udah jarang Earthquake lagi\n",
      "RT Fleegerian_Akin RT ShanCali Earthquake in carribean I feel sorry 4 dem ppl in hatti da whole island is basi cont http tl.gd 3g8mi\n",
      "Haiti Earthquake Earthquake Hits Haiti C est tre tres rare que trembleme. http bit.ly 53Z4gm n Got News? Add It!\n",
      "RT Contentgirls earthquake heeft mensen wel wakker gekregen maar is niet zwaar. Even benadrukken voor het geval iemand familie heeft o ..\n",
      "Contentgirls gelukkig earthquake niet te zwaar Aruba Antillen. Heb jij er familie?\n",
      "Gismis pallas_ploem earthquake heeft mensen wel wakker gekregen maar is niet zwaar. via Contentgirls\n",
      "RT mHefneratm RT LoSoATM What happened n HaiTi ??&gt Da Whole Situation turn ugly! Xhi Xhi.. Lmao Nah a earthquake! WrD! $hyT Brazzi\n",
      "Cara, eu to m‚àö‚â§ tenso, quero saber se minha prima e minha tia estao bem com esse terremoto '-' elas moram en Santiago no Chile &gt;.&lt;\n"
     ]
    }
   ],
   "source": [
    "for r_val in [1, 0, 2]:\n",
    "    print(f\"\\n============= val: {r_val} =============\")\n",
    "    sub_df = df[df.related==r_val]\n",
    "    for ind in range(80):\n",
    "        print(sub_df.message.iloc[ind])"
   ]
  },
  {
   "cell_type": "markdown",
   "metadata": {},
   "source": [
    "It seems that the 'related' value is 1 if the message is related to some disaster, and 0 otherwise. Messages with 'related' val = 2 include also untranslated messages and miscellaneous garbage.\n",
    "\n",
    "Let's look at the values of the other categorization columns for each of the 3 values for 'related'."
   ]
  },
  {
   "cell_type": "code",
   "execution_count": null,
   "metadata": {},
   "outputs": [
    {
     "data": {
      "text/plain": [
       "3.16693459258515"
      ]
     },
     "execution_count": null,
     "metadata": {},
     "output_type": "execute_result"
    }
   ],
   "source": [
    "# mean number of other flags per row when 'related' col val = 1\n",
    "df[df.related==1].loc[:, 'request':].sum(axis=1).mean()"
   ]
  },
  {
   "cell_type": "code",
   "execution_count": null,
   "metadata": {},
   "outputs": [
    {
     "data": {
      "text/plain": [
       "0.0"
      ]
     },
     "execution_count": null,
     "metadata": {},
     "output_type": "execute_result"
    }
   ],
   "source": [
    "# mean number of other flags per row when 'related' col val = 0\n",
    "df[df.related==0].loc[:, 'request':].sum(axis=1).mean()"
   ]
  },
  {
   "cell_type": "code",
   "execution_count": null,
   "metadata": {},
   "outputs": [
    {
     "data": {
      "text/plain": [
       "0"
      ]
     },
     "execution_count": null,
     "metadata": {},
     "output_type": "execute_result"
    }
   ],
   "source": [
    "# when 'related' col val = 2, none of the other flags are turned on.\n",
    "df[df.related==2].loc[:, 'request':].sum(axis=1).sum()"
   ]
  },
  {
   "cell_type": "markdown",
   "metadata": {},
   "source": [
    "**Conclusion:** Other categorization flags are on (= 1) for a row only if that row has a value of 1 for 'related'. "
   ]
  },
  {
   "cell_type": "markdown",
   "metadata": {},
   "source": [
    "### 2. Write a tokenization function to process your text data"
   ]
  },
  {
   "cell_type": "code",
   "execution_count": null,
   "metadata": {},
   "outputs": [],
   "source": [
    "stop_words = stopwords.words(\"english\")\n",
    "lemmatizer = WordNetLemmatizer()"
   ]
  },
  {
   "cell_type": "code",
   "execution_count": null,
   "metadata": {},
   "outputs": [],
   "source": [
    "def tokenize(text):\n",
    "    # normalize case and remove punctuation\n",
    "    text = re.sub(r\"[^a-zA-Z0-9]\", \" \", text.lower())\n",
    "    \n",
    "    # tokenize text\n",
    "    tokens = word_tokenize(text)\n",
    "    \n",
    "    # lemmatize and remove stop words\n",
    "    tokens = [lemmatizer.lemmatize(word) for word in tokens if word not in stop_words]\n",
    "\n",
    "    return tokens"
   ]
  },
  {
   "cell_type": "code",
   "execution_count": null,
   "metadata": {},
   "outputs": [
    {
     "name": "stdout",
     "output_type": "stream",
     "text": [
      "Weather update - a cold front from Cuba that could pass over Haiti \n",
      "     ['weather', 'update', 'cold', 'front', 'cuba', 'could', 'pas', 'haiti'] \n",
      "\n",
      "Is the Hurricane over or is it not over \n",
      "     ['hurricane'] \n",
      "\n",
      "Looking for someone but no name \n",
      "     ['looking', 'someone', 'name'] \n",
      "\n",
      "UN reports Leogane 80-90 destroyed. Only Hospital St. Croix functioning. Needs supplies desperately. \n",
      "     ['un', 'report', 'leogane', '80', '90', 'destroyed', 'hospital', 'st', 'croix', 'functioning', 'need', 'supply', 'desperately'] \n",
      "\n",
      "says: west side of Haiti, rest of the country today and tonight \n",
      "     ['say', 'west', 'side', 'haiti', 'rest', 'country', 'today', 'tonight'] \n",
      "\n",
      "Information about the National Palace- \n",
      "     ['information', 'national', 'palace'] \n",
      "\n",
      "Storm at sacred heart of jesus \n",
      "     ['storm', 'sacred', 'heart', 'jesus'] \n",
      "\n",
      "Please, we need tents and water. We are in Silo, Thank you! \n",
      "     ['please', 'need', 'tent', 'water', 'silo', 'thank'] \n",
      "\n",
      "I would like to receive the messages, thank you \n",
      "     ['would', 'like', 'receive', 'message', 'thank'] \n",
      "\n",
      "I am in Croix-des-Bouquets. We have health issues. They ( workers ) are in Santo 15. ( an area in Croix-des-Bouquets ) \n",
      "     ['croix', 'de', 'bouquet', 'health', 'issue', 'worker', 'santo', '15', 'area', 'croix', 'de', 'bouquet'] \n",
      "\n",
      "There's nothing to eat and water, we starving and thirsty. \n",
      "     ['nothing', 'eat', 'water', 'starving', 'thirsty'] \n",
      "\n",
      "I am in Petionville. I need more information regarding 4636 \n",
      "     ['petionville', 'need', 'information', 'regarding', '4636'] \n",
      "\n"
     ]
    }
   ],
   "source": [
    "for msg in df.iloc[:12,1]:\n",
    "    print(msg, '\\n    ', tokenize(msg), '\\n')"
   ]
  },
  {
   "cell_type": "markdown",
   "metadata": {},
   "source": [
    "### 3. Build a machine learning pipeline\n",
    "This machine pipeline should take in the `message` column as input and output classification results on the other 36 categories in the dataset. You may find the [MultiOutputClassifier](http://scikit-learn.org/stable/modules/generated/sklearn.multioutput.MultiOutputClassifier.html) helpful for predicting multiple target variables."
   ]
  },
  {
   "cell_type": "markdown",
   "metadata": {},
   "source": [
    "#### Handle 'related' column values"
   ]
  },
  {
   "cell_type": "code",
   "execution_count": null,
   "metadata": {},
   "outputs": [],
   "source": [
    "# encode all non-related entries as 0, so we have 1 for related, 0 for non-related\n",
    "df_2 = df.copy()\n",
    "df_2.related = df_2.related.replace(2, 0)"
   ]
  },
  {
   "cell_type": "code",
   "execution_count": null,
   "metadata": {},
   "outputs": [
    {
     "data": {
      "text/plain": [
       "1    19906\n",
       "0     6310\n",
       "Name: related, dtype: int64"
      ]
     },
     "execution_count": null,
     "metadata": {},
     "output_type": "execute_result"
    }
   ],
   "source": [
    "df_2.related.value_counts()"
   ]
  },
  {
   "cell_type": "markdown",
   "metadata": {},
   "source": [
    "#### Pipeline"
   ]
  },
  {
   "cell_type": "code",
   "execution_count": null,
   "metadata": {},
   "outputs": [],
   "source": [
    "# pipeline = "
   ]
  },
  {
   "cell_type": "markdown",
   "metadata": {},
   "source": [
    "### 4. Train pipeline\n",
    "- Split data into train and test sets\n",
    "- Train pipeline"
   ]
  },
  {
   "cell_type": "code",
   "execution_count": null,
   "metadata": {},
   "outputs": [],
   "source": []
  },
  {
   "cell_type": "markdown",
   "metadata": {},
   "source": [
    "### 5. Test your model\n",
    "Report the f1 score, precision and recall for each output category of the dataset. You can do this by iterating through the columns and calling sklearn's `classification_report` on each."
   ]
  },
  {
   "cell_type": "code",
   "execution_count": null,
   "metadata": {},
   "outputs": [],
   "source": []
  },
  {
   "cell_type": "markdown",
   "metadata": {},
   "source": [
    "### 6. Improve your model\n",
    "Use grid search to find better parameters. "
   ]
  },
  {
   "cell_type": "code",
   "execution_count": null,
   "metadata": {},
   "outputs": [],
   "source": [
    "# parameters = \n",
    "\n",
    "# cv = "
   ]
  },
  {
   "cell_type": "markdown",
   "metadata": {},
   "source": [
    "### 7. Test your model\n",
    "Show the accuracy, precision, and recall of the tuned model.  \n",
    "\n",
    "Since this project focuses on code quality, process, and  pipelines, there is no minimum performance metric needed to pass. However, make sure to fine tune your models for accuracy, precision and recall to make your project stand out - especially for your portfolio!"
   ]
  },
  {
   "cell_type": "code",
   "execution_count": null,
   "metadata": {},
   "outputs": [],
   "source": []
  },
  {
   "cell_type": "markdown",
   "metadata": {},
   "source": [
    "### 8. Try improving your model further. Here are a few ideas:\n",
    "* try other machine learning algorithms\n",
    "* add other features besides the TF-IDF"
   ]
  },
  {
   "cell_type": "code",
   "execution_count": null,
   "metadata": {},
   "outputs": [],
   "source": []
  },
  {
   "cell_type": "markdown",
   "metadata": {},
   "source": [
    "### 9. Export your model as a pickle file"
   ]
  },
  {
   "cell_type": "code",
   "execution_count": null,
   "metadata": {},
   "outputs": [],
   "source": []
  },
  {
   "cell_type": "markdown",
   "metadata": {},
   "source": [
    "### 10. Use this notebook to complete `train.py`\n",
    "Use the template file attached in the Resources folder to write a script that runs the steps above to create a database and export a model based on a new dataset specified by the user."
   ]
  },
  {
   "cell_type": "code",
   "execution_count": null,
   "metadata": {},
   "outputs": [],
   "source": []
  }
 ],
 "metadata": {
  "kernelspec": {
   "display_name": "Python 3",
   "language": "python",
   "name": "python3"
  }
 },
 "nbformat": 4,
 "nbformat_minor": 2
}
