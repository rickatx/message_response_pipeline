{
 "cells": [
  {
   "cell_type": "code",
   "execution_count": null,
   "metadata": {},
   "outputs": [],
   "source": [
    "#hide\n",
    "\n",
    "# Do this to see possible %nbdev_ magics\n",
    "from nbdev import *"
   ]
  },
  {
   "cell_type": "markdown",
   "metadata": {},
   "source": [
    "# Disaster Response Messages ETL/ML Pipelines\n",
    "\n",
    "> ETL and ML pipelines for processing/flagging disaster response messages.\n",
    "\n",
    "**A Note on the Code in This Project:**\n",
    "Development and testing of the code is done in the Jupyter notebooks in the `notebooks` directory. Generation of the scripts to run in a production environment are automatically generated using [nbdev](https://github.com/fastai/nbdev)."
   ]
  },
  {
   "cell_type": "markdown",
   "metadata": {},
   "source": [
    "## How to use"
   ]
  },
  {
   "cell_type": "markdown",
   "metadata": {},
   "source": [
    "Place the scripts `process_data.py` and `train_classifier.py` in the directory you wish to run them from. \n",
    "\n",
    "Example command line invocations:\n",
    "\n",
    "```shell\n",
    "$ python process_data.py disaster_messages.csv disaster_categories.csv DisasterResponse.db\n",
    "```\n",
    "\n",
    "```bash\n",
    "$ python train_classifier.py ../data/DisasterResponse.db classifier.pkl\n",
    "```"
   ]
  },
  {
   "cell_type": "code",
   "execution_count": null,
   "metadata": {},
   "outputs": [],
   "source": []
  }
 ],
 "metadata": {
  "kernelspec": {
   "display_name": "Python 3",
   "language": "python",
   "name": "python3"
  }
 },
 "nbformat": 4,
 "nbformat_minor": 2
}
